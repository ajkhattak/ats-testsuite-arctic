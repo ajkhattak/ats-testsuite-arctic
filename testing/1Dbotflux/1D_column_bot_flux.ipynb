{
 "cells": [
  {
   "cell_type": "code",
   "execution_count": 1,
   "metadata": {
    "collapsed": true
   },
   "outputs": [],
   "source": [
    "%matplotlib inline\n",
    "import sys,os\n",
    "sys.path.append(os.path.join(os.environ['ATS_SRC_DIR'],'tools', 'utils'))\n",
    "import parse_xmf\n",
    "import column_data\n",
    "import colors\n",
    "import numpy as np\n",
    "import matplotlib.cm\n",
    "from matplotlib import pyplot as plt"
   ]
  },
  {
   "cell_type": "markdown",
   "metadata": {},
   "source": [
    "This example is designed to simulate discontinuous warm permafrost with a flux (-1e-07) at the bottom boundary. \n",
    "test0 is similar to the 1Dcolumn.  "
   ]
  },
  {
   "cell_type": "code",
   "execution_count": 1,
   "metadata": {
    "collapsed": false
   },
   "outputs": [
    {
     "ename": "NameError",
     "evalue": "name 'plt' is not defined",
     "output_type": "error",
     "traceback": [
      "\u001b[0;31m---------------------------------------------------------------------------\u001b[0m",
      "\u001b[0;31mNameError\u001b[0m                                 Traceback (most recent call last)",
      "\u001b[0;32m<ipython-input-1-dd1169200051>\u001b[0m in \u001b[0;36m<module>\u001b[0;34m()\u001b[0m\n\u001b[1;32m     11\u001b[0m     \u001b[0maxs\u001b[0m\u001b[0;34m[\u001b[0m\u001b[0;36m1\u001b[0m\u001b[0;34m,\u001b[0m\u001b[0;36m0\u001b[0m\u001b[0;34m]\u001b[0m\u001b[0;34m.\u001b[0m\u001b[0mplot\u001b[0m\u001b[0;34m(\u001b[0m\u001b[0mdati\u001b[0m\u001b[0;34m[\u001b[0m\u001b[0;36m2\u001b[0m\u001b[0;34m,\u001b[0m\u001b[0;36m0\u001b[0m\u001b[0;34m,\u001b[0m\u001b[0;34m:\u001b[0m\u001b[0;34m]\u001b[0m\u001b[0;34m,\u001b[0m\u001b[0mz\u001b[0m\u001b[0;34m,\u001b[0m \u001b[0mstyle\u001b[0m\u001b[0;34m)\u001b[0m\u001b[0;34m\u001b[0m\u001b[0m\n\u001b[1;32m     12\u001b[0m \u001b[0;34m\u001b[0m\u001b[0m\n\u001b[0;32m---> 13\u001b[0;31m \u001b[0mfig\u001b[0m\u001b[0;34m,\u001b[0m \u001b[0maxs\u001b[0m \u001b[0;34m=\u001b[0m \u001b[0mplt\u001b[0m\u001b[0;34m.\u001b[0m\u001b[0msubplots\u001b[0m\u001b[0;34m(\u001b[0m\u001b[0;36m2\u001b[0m\u001b[0;34m,\u001b[0m\u001b[0;36m2\u001b[0m\u001b[0;34m,\u001b[0m \u001b[0mfigsize\u001b[0m\u001b[0;34m=\u001b[0m\u001b[0;34m(\u001b[0m\u001b[0;36m11\u001b[0m\u001b[0;34m,\u001b[0m\u001b[0;36m8\u001b[0m\u001b[0;34m)\u001b[0m\u001b[0;34m)\u001b[0m\u001b[0;34m\u001b[0m\u001b[0m\n\u001b[0m\u001b[1;32m     14\u001b[0m \u001b[0;31m#di = \"test0/test0-i.regression.gold\"\u001b[0m\u001b[0;34m\u001b[0m\u001b[0;34m\u001b[0m\u001b[0m\n\u001b[1;32m     15\u001b[0m \u001b[0mdii\u001b[0m \u001b[0;34m=\u001b[0m \u001b[0;34m\"test0/test0-ii.regression.gold\"\u001b[0m\u001b[0;34m\u001b[0m\u001b[0m\n",
      "\u001b[0;31mNameError\u001b[0m: name 'plt' is not defined"
     ]
    }
   ],
   "source": [
    "def plot(directory, axs, style):\n",
    "    dati = column_data.column_data([\"pressure\", \"saturation_liquid\"],\n",
    "                              keys=1, directory=directory)\n",
    "    z = dati[0,0,:]\n",
    "\n",
    "    axs[0,1].plot(dati[1,0,:],z, style)\n",
    "    axs[0,0].plot(dati[2,0,:],z, style)\n",
    "\n",
    "    # zoom in\n",
    "    axs[1,1].plot(dati[1,0,:],z, style)\n",
    "    axs[1,0].plot(dati[2,0,:],z, style)\n",
    "\n",
    "fig, axs = plt.subplots(2,2, figsize=(11,8))\n",
    "#di = \"test0/test0-i.regression.gold\"\n",
    "dii = \"test0/test0-ii.regression.gold\"\n",
    "#plot(di, axs, 'b')  # no di folder\n",
    "plot(dii, axs, 'r--')\n",
    "\n",
    "axs[0,0].set_xlim([-.1,1.1])\n",
    "axs[0,0].set_xlabel('saturation [-]')\n",
    "axs[0,0].set_ylabel('z-coordinate [m]')\n",
    "axs[0,1].set_xlabel('pressure [Pa]')\n",
    "axs[0,1].set_ylabel('z-coordinate [m]')\n",
    "axs[0,1].ticklabel_format(style='sci', axis='x', scilimits=(0,0))\n",
    "\n",
    "axs[1,0].set_ylim([-5,0])\n",
    "axs[1,1].set_ylim([-5,0])\n",
    "axs[1,0].set_xlim([-.1,1.1])\n",
    "axs[1,1].set_xlim([0.5,1.5e5])\n",
    "axs[1,0].set_xlabel('saturation [-]')\n",
    "axs[1,0].set_ylabel('z-coordinate [m]')\n",
    "axs[1,1].set_xlabel('pressure [Pa]')\n",
    "axs[1,1].set_ylabel('z-coordinate [m]')\n",
    "axs[1,1].ticklabel_format(style='sci', axis='x', scilimits=(0,0))\n",
    "\n",
    "plt.tight_layout()\n",
    "plt.show()"
   ]
  },
  {
   "cell_type": "markdown",
   "metadata": {},
   "source": [
    "#### test2: Freeze steady-state to generate ice column"
   ]
  },
  {
   "cell_type": "markdown",
   "metadata": {},
   "source": [
    "Transient simulations are initialized in the winter to make spinup simpler.  Here we start with temperature of 271.15K = -2C at the top and flux at the bottom boundary.  \n",
    "\n",
    "In this case the lower boundary stays unfrozen and gas does not accumulates there. \n",
    "\n",
    "The overall temprature profile with depth changes now from -2C at top to -2.5C at the bottom boundary.\n",
    "\n",
    "NOTE: From here on, transient problems are plotted such that early times have low saturation, and late times are high saturation."
   ]
  },
  {
   "cell_type": "code",
   "execution_count": 2,
   "metadata": {
    "collapsed": false
   },
   "outputs": [
    {
     "ename": "NameError",
     "evalue": "name 'column_data' is not defined",
     "output_type": "error",
     "traceback": [
      "\u001b[0;31m---------------------------------------------------------------------------\u001b[0m",
      "\u001b[0;31mNameError\u001b[0m                                 Traceback (most recent call last)",
      "\u001b[0;32m<ipython-input-2-976a4c87a673>\u001b[0m in \u001b[0;36m<module>\u001b[0;34m()\u001b[0m\n\u001b[1;32m     22\u001b[0m \u001b[0;34m\u001b[0m\u001b[0m\n\u001b[1;32m     23\u001b[0m \u001b[0;34m\u001b[0m\u001b[0m\n\u001b[0;32m---> 24\u001b[0;31m \u001b[0mfig\u001b[0m\u001b[0;34m,\u001b[0m \u001b[0maxs\u001b[0m \u001b[0;34m=\u001b[0m \u001b[0mcolumn_data\u001b[0m\u001b[0;34m.\u001b[0m\u001b[0mgetFigs\u001b[0m\u001b[0;34m(\u001b[0m\u001b[0mFalse\u001b[0m\u001b[0;34m,\u001b[0m \u001b[0mTrue\u001b[0m\u001b[0;34m)\u001b[0m\u001b[0;34m\u001b[0m\u001b[0m\n\u001b[0m\u001b[1;32m     25\u001b[0m \u001b[0mdiii\u001b[0m \u001b[0;34m=\u001b[0m \u001b[0;34m\"test2/test2-iii.regression.gold\"\u001b[0m\u001b[0;34m\u001b[0m\u001b[0m\n\u001b[1;32m     26\u001b[0m \u001b[0;34m\u001b[0m\u001b[0m\n",
      "\u001b[0;31mNameError\u001b[0m: name 'column_data' is not defined"
     ]
    }
   ],
   "source": [
    "# plot the solution\n",
    "\n",
    "def plot(directory, axs, style):\n",
    "    # load the data\n",
    "    dati = column_data.column_data([\"pressure\", \"saturation_liquid\", \n",
    "                                    \"saturation_ice\", \"saturation_gas\", \"temperature\"],\n",
    "                                    directory=directory)\n",
    "    keys, times, dat = parse_xmf.readATS(directory=directory)\n",
    "\n",
    "    ice = colors.cm_mapper(-10, times[-1], colors.ice_cmap())\n",
    "    water = colors.cm_mapper(-10, times[-1], colors.water_cmap())\n",
    "    gas = colors.cm_mapper(-10, times[-1], colors.gas_cmap())    \n",
    "    \n",
    "    # plot saturation of liquid, pressure\n",
    "    z = dati[0,0,:]\n",
    "    for i,t in enumerate(times):\n",
    "        axs[2].plot(dati[5,i,:]- 273.15,z, style, color=gas(t))\n",
    "        axs[1].plot(dati[1,i,:],z, style, color=water(t))\n",
    "        axs[0].plot(dati[2,i,:],z, style, color=water(t)) #dark blue\n",
    "        axs[0].plot(dati[3,i,:],z, style, color=ice(t)) #light blue\n",
    "        axs[0].plot(dati[4,i,:],z, style, color=gas(t)) #dark red\n",
    "        \n",
    "        \n",
    "fig, axs = column_data.getFigs(False, True)\n",
    "diii = \"test2/test2-iii.regression.gold\"\n",
    "\n",
    "plot(diii, axs, '-')\n",
    "\n",
    "axs[0].set_xlim([-.1,1.1])\n",
    "axs[0].set_xlabel('saturation [-]')\n",
    "axs[0].set_ylabel('z-coordinate [m]')\n",
    "axs[1].set_xlabel('pressure [Pa]')\n",
    "axs[2].set_xlabel('temperature [C]')\n",
    "axs[1].ticklabel_format(style='sci', axis='x', scilimits=(0,0))\n",
    "\n",
    "# and the zoomed version\n",
    "fig, axs = column_data.getFigs(False, True)\n",
    "\n",
    "plot(diii, axs, '-')\n",
    "\n",
    "axs[0].set_xlim([-.1,1.1])\n",
    "axs[0].set_xlabel('saturation [-]')\n",
    "axs[0].set_ylabel('z-coordinate [m]')\n",
    "axs[1].set_xlabel('pressure [Pa]')\n",
    "axs[2].set_xlabel('temperature [K]')\n",
    "axs[1].ticklabel_format(style='sci', axis='x', scilimits=(0,0))\n",
    "\n",
    "axs[0].set_ylim([-2.5,-0])\n",
    "axs[1].set_ylim([-2.5,-0])\n",
    "axs[2].set_ylim([-2.5,-0])\n",
    "\n",
    "plt.show()"
   ]
  },
  {
   "cell_type": "code",
   "execution_count": 3,
   "metadata": {
    "collapsed": false
   },
   "outputs": [
    {
     "ename": "NameError",
     "evalue": "name 'plt' is not defined",
     "output_type": "error",
     "traceback": [
      "\u001b[0;31m---------------------------------------------------------------------------\u001b[0m",
      "\u001b[0;31mNameError\u001b[0m                                 Traceback (most recent call last)",
      "\u001b[0;32m<ipython-input-3-abc8ca48942e>\u001b[0m in \u001b[0;36m<module>\u001b[0;34m()\u001b[0m\n\u001b[1;32m     48\u001b[0m \u001b[0;34m\u001b[0m\u001b[0m\n\u001b[1;32m     49\u001b[0m \u001b[0;34m\u001b[0m\u001b[0m\n\u001b[0;32m---> 50\u001b[0;31m \u001b[0mfig\u001b[0m\u001b[0;34m,\u001b[0m \u001b[0maxs\u001b[0m \u001b[0;34m=\u001b[0m \u001b[0mplt\u001b[0m\u001b[0;34m.\u001b[0m\u001b[0msubplots\u001b[0m\u001b[0;34m(\u001b[0m\u001b[0;36m1\u001b[0m\u001b[0;34m,\u001b[0m\u001b[0;36m3\u001b[0m\u001b[0;34m,\u001b[0m \u001b[0mfigsize\u001b[0m\u001b[0;34m=\u001b[0m\u001b[0;34m(\u001b[0m\u001b[0;36m12\u001b[0m\u001b[0;34m,\u001b[0m\u001b[0;36m3\u001b[0m\u001b[0;34m)\u001b[0m\u001b[0;34m)\u001b[0m\u001b[0;34m\u001b[0m\u001b[0m\n\u001b[0m\u001b[1;32m     51\u001b[0m \u001b[0mtwinax\u001b[0m \u001b[0;34m=\u001b[0m \u001b[0maxs\u001b[0m\u001b[0;34m[\u001b[0m\u001b[0;36m2\u001b[0m\u001b[0;34m]\u001b[0m\u001b[0;34m.\u001b[0m\u001b[0mtwinx\u001b[0m\u001b[0;34m(\u001b[0m\u001b[0;34m)\u001b[0m\u001b[0;34m\u001b[0m\u001b[0m\n\u001b[1;32m     52\u001b[0m \u001b[0maxs\u001b[0m \u001b[0;34m=\u001b[0m \u001b[0mlist\u001b[0m\u001b[0;34m(\u001b[0m\u001b[0maxs\u001b[0m\u001b[0;34m)\u001b[0m\u001b[0;34m\u001b[0m\u001b[0m\n",
      "\u001b[0;31mNameError\u001b[0m: name 'plt' is not defined"
     ]
    }
   ],
   "source": [
    "# plot the solution\n",
    "\n",
    "def plot(directory, axs, style):\n",
    "    # load the data\n",
    "    dati = column_data.column_data([\"pressure\", \"saturation_liquid\", \n",
    "                                    \"saturation_ice\", \"saturation_gas\", \"temperature\"],\n",
    "                                    directory=directory)\n",
    "    keys, times, dat = parse_xmf.readATS(directory=directory)\n",
    "    skeys, stimes, sdat = parse_xmf.readATS(directory=directory, base=\"visdump_surface_data.h5\")\n",
    "    \n",
    "    # convert times to days\n",
    "    times = [time*365.25 for time in times]\n",
    "\n",
    "    ice = colors.cm_mapper(-1, times[-1], colors.ice_cmap())\n",
    "    water = colors.cm_mapper(-1, times[-1], colors.water_cmap())\n",
    "    gas = colors.cm_mapper(-1, times[-1], colors.gas_cmap())    \n",
    "    \n",
    "    # plot saturation of liquid, pressure\n",
    "    z = dati[0,0,:]\n",
    "    for i,t in enumerate(times):\n",
    "        if (i%4 == 1):\n",
    "            axs[1].plot(dati[5,i,:],z, style, color=gas(t))\n",
    "            axs[0].plot(dati[2,i,:],z, style, color=water(t))\n",
    "            axs[0].plot(dati[3,i,:],z, style, color=ice(t))\n",
    "            axs[0].plot(dati[4,i,:],z, style, color=gas(t))\n",
    "        \n",
    "    # inset -- plot surface water\n",
    "    pd = parse_xmf.getSurfaceData(keys, sdat, 'ponded_depth.cell.0')\n",
    "    axs[2].plot(times, pd, 'b')\n",
    "    if pd.max() > 0:\n",
    "        axs[2].set_ylim([-.1*pd.max(), pd.max()])\n",
    "\n",
    "    # plot snow\n",
    "    snow = parse_xmf.getSurfaceData(keys, sdat, 'snow_depth.cell.0')\n",
    "    snow = snow + pd\n",
    "    axs[2].plot(times, snow, 'c')\n",
    "    if snow.max() > 0:\n",
    "        axs[2].set_ylim([-.1*snow.max(), snow.max()])\n",
    "        \n",
    "    # plot surface temp\n",
    "    surf_T = parse_xmf.getSurfaceData(keys, sdat, \"surface-temperature.cell.0\")\n",
    "    axs[3].plot(times, surf_T, 'r')\n",
    "    \n",
    "    # plot snow temp\n",
    "    snow_T = parse_xmf.getSurfaceData(keys, sdat, 'snow_temperature.cell.0')\n",
    "    snow_T[0] = np.nan # this is initially zero which screws up the plot\n",
    "    axs[3].plot(times, snow_T, 'm')\n",
    "\n",
    "        \n",
    "fig, axs = plt.subplots(1,3, figsize=(12,3))\n",
    "twinax = axs[2].twinx()\n",
    "axs = list(axs)\n",
    "\n",
    "axs.append(twinax)\n",
    "\n",
    "#diii = \"test7/test7.transient_mycomp\"\n",
    "#diii = \"test7/test7.transient\"\n",
    "diii = \"test7/test7.regression.gold\"\n",
    "\n",
    "plot(diii, axs, '-')\n",
    "\n",
    "axs[0].set_xlim([-.1,1.1])\n",
    "axs[0].set_xlabel('saturation [-]')\n",
    "axs[0].set_ylabel('z-coordinate [m]')\n",
    "axs[1].set_xlabel('temperature [K]')\n",
    "axs[2].set_xlabel('time [d]')\n",
    "axs[2].set_ylabel('ponded (b) and snow (c) depth [m]')\n",
    "axs[3].set_ylabel('surface (r) and snow (m) T [K]')\n",
    "\n",
    "plt.tight_layout()\n",
    "plt.show()\n",
    "            \n",
    "    \n",
    "# zoom\n",
    "fig, axs = plt.subplots(1,3, figsize=(12,3))\n",
    "twinax = axs[2].twinx()\n",
    "axs = list(axs)\n",
    "axs.append(twinax)\n",
    "\n",
    "plot(diii, axs, '-')\n",
    "\n",
    "axs[0].set_xlim([-.1,1.1])\n",
    "axs[0].set_xlabel('saturation [-]')\n",
    "axs[0].set_ylabel('z-coordinate [m]')\n",
    "axs[1].set_xlabel('temperature [K]')\n",
    "axs[2].set_xlabel('time [d]')\n",
    "axs[2].set_ylabel('ponded depth [m]')\n",
    "axs[3].set_ylabel('surface (r) and snow (m) T [K]')\n",
    "\n",
    "axs[0].set_ylim([-.5,-0])\n",
    "axs[1].set_ylim([-.5,-0])\n",
    "#axs[2].set_ylim([-2.5,-0])\n",
    "\n",
    "plt.tight_layout()\n",
    "plt.show()"
   ]
  },
  {
   "cell_type": "code",
   "execution_count": null,
   "metadata": {
    "collapsed": true
   },
   "outputs": [],
   "source": []
  }
 ],
 "metadata": {
  "anaconda-cloud": {},
  "kernelspec": {
   "display_name": "Python [Root]",
   "language": "python",
   "name": "Python [Root]"
  },
  "language_info": {
   "codemirror_mode": {
    "name": "ipython",
    "version": 2
   },
   "file_extension": ".py",
   "mimetype": "text/x-python",
   "name": "python",
   "nbconvert_exporter": "python",
   "pygments_lexer": "ipython2",
   "version": "2.7.12"
  }
 },
 "nbformat": 4,
 "nbformat_minor": 0
}
