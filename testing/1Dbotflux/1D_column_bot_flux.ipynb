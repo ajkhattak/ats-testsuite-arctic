{
 "cells": [
  {
   "cell_type": "code",
   "execution_count": 2,
   "metadata": {
    "collapsed": false
   },
   "outputs": [
    {
     "name": "stdout",
     "output_type": "stream",
     "text": [
      "Using matplotlib backend: MacOSX\n"
     ]
    }
   ],
   "source": [
    "#%matplotlib inline\n",
    "%matplotlib\n",
    "import sys,os\n",
    "sys.path.append(os.path.join(os.environ['ATS_SRC_DIR'],'tools', 'utils'))\n",
    "import parse_xmf\n",
    "import column_data\n",
    "import colors\n",
    "import numpy as np\n",
    "import matplotlib.cm\n",
    "from matplotlib import pyplot as plt"
   ]
  },
  {
   "cell_type": "markdown",
   "metadata": {},
   "source": [
    "This example is designed to simulate discontinuous warm permafrost with a flux (-1e-07) at the bottom boundary. \n",
    "test0 is similar to the 1Dcolumn.  "
   ]
  },
  {
   "cell_type": "code",
   "execution_count": 54,
   "metadata": {
    "collapsed": false
   },
   "outputs": [],
   "source": [
    "def plot(directory, axs, style):\n",
    "    dati = column_data.column_data([\"pressure\", \"saturation_liquid\"],\n",
    "                              keys=1, directory=directory)\n",
    "    z = dati[0,0,:]\n",
    "\n",
    "    axs[0,1].plot(dati[1,0,:],z, style)\n",
    "    axs[0,0].plot(dati[2,0,:],z, style)\n",
    "\n",
    "    # zoom in\n",
    "    axs[1,1].plot(dati[1,0,:],z, style)\n",
    "    axs[1,0].plot(dati[2,0,:],z, style)\n",
    "\n",
    "fig, axs = plt.subplots(2,2, figsize=(11,8))\n",
    "di = \"test0/test0-soil.regression.gold\"\n",
    "dii = \"test0/test0-organic.regression.gold\"\n",
    "plot(di, axs, 'b')  # no di folder\n",
    "plot(dii, axs, 'r--')\n",
    "\n",
    "axs[0,0].set_xlim([-.1,1.1])\n",
    "axs[0,0].set_xlabel('saturation [-]')\n",
    "axs[0,0].set_ylabel('z-coordinate [m]')\n",
    "axs[0,1].set_xlabel('pressure [Pa]')\n",
    "axs[0,1].set_ylabel('z-coordinate [m]')\n",
    "axs[0,1].ticklabel_format(style='sci', axis='x', scilimits=(0,0))\n",
    "\n",
    "axs[1,0].set_ylim([-5,0])\n",
    "axs[1,1].set_ylim([-5,0])\n",
    "axs[1,0].set_xlim([-.1,1.1])\n",
    "axs[1,1].set_xlim([0.5,1.5e5])\n",
    "axs[1,0].set_xlabel('saturation [-]')\n",
    "axs[1,0].set_ylabel('z-coordinate [m]')\n",
    "axs[1,1].set_xlabel('pressure [Pa]')\n",
    "axs[1,1].set_ylabel('z-coordinate [m]')\n",
    "axs[1,1].ticklabel_format(style='sci', axis='x', scilimits=(0,0))\n",
    "\n",
    "plt.tight_layout()\n",
    "plt.show()"
   ]
  },
  {
   "cell_type": "markdown",
   "metadata": {},
   "source": [
    "#### test2: Freeze steady-state to generate ice column"
   ]
  },
  {
   "cell_type": "markdown",
   "metadata": {},
   "source": [
    "Transient simulations are initialized in the winter to make spinup simpler.  Here we start with temperature of 271.15K = -2C at the top and flux at the bottom boundary.  \n",
    "\n",
    "In this case the lower boundary stays unfrozen and gas does not accumulates there. \n",
    "\n",
    "The overall temprature profile with depth changes now from -2C at top to -2.5C at the bottom boundary.\n",
    "\n",
    "NOTE: From here on, transient problems are plotted such that early times have low saturation, and late times are high saturation."
   ]
  },
  {
   "cell_type": "code",
   "execution_count": 55,
   "metadata": {
    "collapsed": false
   },
   "outputs": [],
   "source": [
    "# plot the solution\n",
    "\n",
    "def plot(directory, axs, style):\n",
    "    # load the data\n",
    "    dati = column_data.column_data([\"pressure\", \"saturation_liquid\", \n",
    "                                    \"saturation_ice\", \"saturation_gas\", \"temperature\"],\n",
    "                                    directory=directory)\n",
    "    keys, times, dat = parse_xmf.readATS(directory=directory)\n",
    "\n",
    "    ice = colors.cm_mapper(-10000, times[-1], colors.ice_cmap())\n",
    "    water = colors.cm_mapper(-10000, times[-1], colors.water_cmap())\n",
    "    gas = colors.cm_mapper(-10000, times[-1], colors.gas_cmap())    \n",
    "    \n",
    "    # plot saturation of liquid, pressure\n",
    "    z = dati[0,0,:]\n",
    "    for i,t in enumerate(times):\n",
    "        axs[2].plot(dati[5,i,:]- 273.15,z, style, color=gas(t))\n",
    "        axs[1].plot(dati[1,i,:],z, style, color=water(t))\n",
    "        axs[0].plot(dati[2,i,:],z, style, color=water(t)) #dark blue\n",
    "        axs[0].plot(dati[3,i,:],z, style, color=ice(t)) #light blue\n",
    "        axs[0].plot(dati[4,i,:],z, style, color=gas(t)) #dark red\n",
    "        \n",
    "        \n",
    "fig, axs = column_data.getFigs(False, True)\n",
    "diii = \"test2/test2-organic.regression.gold\"\n",
    "\n",
    "plot(diii, axs, '-')\n",
    "\n",
    "axs[0].set_xlim([-.1,1.1])\n",
    "axs[0].set_xlabel('saturation [-]')\n",
    "axs[0].set_ylabel('z-coordinate [m]')\n",
    "axs[1].set_xlabel('pressure [Pa]')\n",
    "axs[2].set_xlabel('temperature [C]')\n",
    "axs[1].ticklabel_format(style='sci', axis='x', scilimits=(0,0))\n",
    "\n",
    "# and the zoomed version\n",
    "fig, axs = column_data.getFigs(False, True)\n",
    "\n",
    "plot(diii, axs, '-')\n",
    "\n",
    "axs[0].set_xlim([-.1,1.1])\n",
    "axs[0].set_xlabel('saturation [-]')\n",
    "axs[0].set_ylabel('z-coordinate [m]')\n",
    "axs[1].set_xlabel('pressure [Pa]')\n",
    "axs[2].set_xlabel('temperature [K]')\n",
    "axs[1].ticklabel_format(style='sci', axis='x', scilimits=(0,0))\n",
    "\n",
    "axs[0].set_ylim([-2.5,-0])\n",
    "axs[1].set_ylim([-2.5,-0])\n",
    "axs[2].set_ylim([-2.5,-0])\n",
    "\n",
    "plt.show()"
   ]
  },
  {
   "cell_type": "code",
   "execution_count": 57,
   "metadata": {
    "collapsed": false
   },
   "outputs": [],
   "source": [
    "# plot the solution\n",
    "def plot(directory, axs, style, timing):\n",
    "    # load the data\n",
    "    dati = column_data.column_data([\"pressure\", \"saturation_liquid\", \n",
    "                                    \"saturation_ice\", \"saturation_gas\", \"temperature\"],\n",
    "                                    directory=directory)\n",
    "    keys, times, dat = parse_xmf.readATS(directory=directory)\n",
    "    skeys, stimes, sdat = parse_xmf.readATS(directory=directory, base=\"visdump_surface_data.h5\")\n",
    "    \n",
    "    # convert times to days\n",
    "    times = [time*365.25 for time in times]\n",
    "\n",
    "    ice = colors.cm_mapper(-1, times[-1], colors.ice_cmap())\n",
    "    water = colors.cm_mapper(-1, times[-1], colors.water_cmap())\n",
    "    gas = colors.cm_mapper(-1, times[-1], colors.gas_cmap())    \n",
    "    \n",
    "    # plot saturation of liquid, pressure\n",
    "    z = dati[0,0,:]\n",
    "    for i,t in enumerate(times):\n",
    "        if timing(i):\n",
    "            axs[1].plot(dati[5,i,:],z, style, color=gas(t))\n",
    "            axs[2].plot(dati[1,i,:],z, style, color=water(t))\n",
    "            axs[0].plot(dati[2,i,:],z, style, color=water(t))\n",
    "            axs[0].plot(dati[3,i,:],z, style, color=ice(t))\n",
    "            axs[0].plot(dati[4,i,:],z, style, color=gas(t))\n",
    "    axs[1].plot(273.15*np.ones(z.shape), z, 'k--')\n",
    "    axs[2].plot(101325*np.ones(z.shape), z, 'k--')\n",
    "        \n",
    "    # inset -- plot surface water\n",
    "    pd = parse_xmf.getSurfaceData(keys, sdat, 'ponded_depth.cell.0')\n",
    "    axs[3].plot(times, pd, 'b')\n",
    "    if pd.max() > 0:\n",
    "        axs[3].set_ylim([-.1*pd.max(), pd.max()])\n",
    "\n",
    "    # plot snow\n",
    "    snow = parse_xmf.getSurfaceData(keys, sdat, 'snow_depth.cell.0')\n",
    "    snow = snow + pd\n",
    "    axs[3].plot(times, snow, 'c')\n",
    "    if snow.max() > 0:\n",
    "        axs[3].set_ylim([-.1*snow.max(), snow.max()])\n",
    "        \n",
    "    # plot surface temp\n",
    "    surf_T = parse_xmf.getSurfaceData(keys, sdat, \"surface-temperature.cell.0\")\n",
    "    axs[4].plot(times, surf_T, 'r')\n",
    "    \n",
    "    # plot snow temp\n",
    "    snow_T = parse_xmf.getSurfaceData(keys, sdat, 'snow_temperature.cell.0')\n",
    "    snow_T[0] = np.nan # this is initially zero which screws up the plot\n",
    "    axs[4].plot(times, snow_T, 'm')\n",
    "\n",
    "    # plot air temp\n",
    "    air_T = parse_xmf.getSurfaceData(keys, sdat, \"air_temperature.cell.0\")\n",
    "    axs[4].plot(times, air_T, 'Brown')\n",
    "\n",
    "def go(diii, timing):\n",
    "    fig, axs = plt.subplots(1,4, figsize=(12,3))\n",
    "    twinax = axs[3].twinx()\n",
    "    axs = list(axs)\n",
    "\n",
    "    axs.append(twinax)\n",
    "\n",
    "    plot(diii, axs, '-', timing)\n",
    "\n",
    "    axs[0].set_xlim([-.1,1.1])\n",
    "    axs[0].set_xlabel('saturation [-]')\n",
    "    axs[0].set_ylabel('z-coordinate [m]')\n",
    "    axs[1].set_xlabel('temperature [K]')\n",
    "    axs[1].set_xlim(268.,278.)\n",
    "    axs[2].set_xlabel('pressure [Pa]')\n",
    "    axs[3].set_xlabel('time [d]')\n",
    "    axs[3].set_ylabel('ponded (b) and snow (c) depth [m]')\n",
    "    axs[4].set_ylabel('surface (r), snow (m), air (br) T [K]')\n",
    "    axs[1].set_title(diii)\n",
    "\n",
    "    plt.tight_layout()\n",
    "    plt.show()\n",
    "            \n",
    "    \n",
    "    # zoom\n",
    "    fig, axs = plt.subplots(1,4, figsize=(12,3))\n",
    "    twinax = axs[3].twinx()\n",
    "    axs = list(axs)\n",
    "    axs.append(twinax)\n",
    "\n",
    "    plot(diii, axs, '-', timing)\n",
    "\n",
    "    axs[0].set_xlim([-.1,1.1])\n",
    "    axs[0].set_xlabel('saturation [-]')\n",
    "    axs[0].set_ylabel('z-coordinate [m]')\n",
    "    axs[1].set_xlabel('temperature [K]')\n",
    "    axs[1].set_xlim(268.,278.)\n",
    "    axs[2].set_xlabel('pressure [Pa]')\n",
    "    axs[3].set_xlabel('time [d]')\n",
    "    axs[3].set_ylabel('ponded depth [m]')\n",
    "    axs[4].set_ylabel('surface (r) and snow (m) T [K]')\n",
    "    axs[1].set_title(diii)\n",
    "\n",
    "    axs[0].set_ylim([-.5,-0])\n",
    "    axs[1].set_ylim([-.5,-0])\n",
    "    #axs[2].set_ylim([-2.5,-0])\n",
    "\n",
    "    plt.tight_layout()\n",
    "    plt.show()\n",
    "    \n",
    "    \n",
    "def month(i):\n",
    "    def timing(m):\n",
    "        return m%12 == i\n",
    "    return timing\n",
    "def year(yr):\n",
    "    def timing(m):\n",
    "        return 12*yr <= m < 12*(yr+1)\n",
    "    return timing\n",
    "def all():\n",
    "    def timing(m):\n",
    "        return True\n",
    "    return timing"
   ]
  },
  {
   "cell_type": "code",
   "execution_count": null,
   "metadata": {
    "collapsed": false
   },
   "outputs": [],
   "source": [
    "#go(\"test7/test7-v.regression.gold\")\n",
    "#go(\"test7/test7-v-nosnow.regression.gold\")\n",
    "#go(\"test7/test7-v-peaksnow.regression.gold\")"
   ]
  },
  {
   "cell_type": "code",
   "execution_count": 59,
   "metadata": {
    "collapsed": false
   },
   "outputs": [],
   "source": [
    "go(\"test7/test7-organic.regression\", month(1))"
   ]
  },
  {
   "cell_type": "code",
   "execution_count": 34,
   "metadata": {
    "collapsed": false
   },
   "outputs": [],
   "source": [
    "go(\"test7/test7-organic.regression.gold\",month(9))"
   ]
  },
  {
   "cell_type": "code",
   "execution_count": 60,
   "metadata": {
    "collapsed": false
   },
   "outputs": [],
   "source": [
    "go(\"test8/test8-organic.regression\", year(1))"
   ]
  },
  {
   "cell_type": "code",
   "execution_count": null,
   "metadata": {
    "collapsed": true
   },
   "outputs": [],
   "source": []
  }
 ],
 "metadata": {
  "anaconda-cloud": {},
  "kernelspec": {
   "display_name": "Python [conda root]",
   "language": "python",
   "name": "conda-root-py"
  },
  "language_info": {
   "codemirror_mode": {
    "name": "ipython",
    "version": 2
   },
   "file_extension": ".py",
   "mimetype": "text/x-python",
   "name": "python",
   "nbconvert_exporter": "python",
   "pygments_lexer": "ipython2",
   "version": "2.7.12"
  }
 },
 "nbformat": 4,
 "nbformat_minor": 0
}
