{
 "cells": [
  {
   "cell_type": "markdown",
   "metadata": {},
   "source": [
    "This worksheet is used to check and combine two streams of Met data, 2010-2013 from Anna L and 2014-2016 from Nathan Wales.\n",
    "\n",
    "*author: Ethan Coon*"
   ]
  },
  {
   "cell_type": "code",
   "execution_count": 23,
   "metadata": {
    "collapsed": false
   },
   "outputs": [],
   "source": [
    "import numpy as np\n",
    "import h5py\n",
    "from matplotlib import pyplot as plt"
   ]
  },
  {
   "cell_type": "code",
   "execution_count": 34,
   "metadata": {
    "collapsed": false
   },
   "outputs": [],
   "source": [
    "d1 = h5py.File(\"Barrow-2010_2013.h5\",'r')\n",
    "d2 = h5py.File(\"Barrow-2014_2016.h5\",'r')"
   ]
  },
  {
   "cell_type": "code",
   "execution_count": 37,
   "metadata": {
    "collapsed": false
   },
   "outputs": [
    {
     "name": "stdout",
     "output_type": "stream",
     "text": [
      "[  4.32000000e+04   1.29600000e+05   2.16000000e+05 ...,   9.06768000e+07\n",
      "   9.07632000e+07   9.08496000e+07]\n",
      "[u'air temperature [K]', u'incoming longwave radiation [W m^-2]', u'incoming shortwave radiation [W m^-2]', u'precipitation rain [m s^-1]', u'precipitation snow [m SWE s^-1]', u'relative humidity [-]', u'time [s]', u'wind speed [m s^-1]', u'wind speed reference height [m]']\n"
     ]
    }
   ],
   "source": [
    "fax = plt.subplots(4,2,figsize=(10,20))\n",
    "ax = fax[1].ravel()\n",
    "\n",
    "print d2['time [s]'][:]\n",
    "\n",
    "print d1.keys()\n",
    "for i,k in enumerate([k for k in d1.keys() if not \"reference height\" in k]):\n",
    "    ax[i].plot(d1['time [s]'][:]/86400.0/365.0, d1[k][:], 'b')\n",
    "    ax[i].plot(4+(d2['time [s]'][:]/86400.0/365.0), d2[k][:], 'r')\n",
    "    ax[i].set_title(k)\n",
    "\n",
    "plt.show()"
   ]
  },
  {
   "cell_type": "code",
   "execution_count": 38,
   "metadata": {
    "collapsed": false
   },
   "outputs": [
    {
     "name": "stdout",
     "output_type": "stream",
     "text": [
      "rel hum min =  0.61693109809 0.666\n",
      "precip rain min =  0.0 0.0\n",
      "precip snow min =  0.0 0.0\n",
      "qSW min =  0.0 0.0\n",
      "qLW min =  117.758181424 163.6708333\n",
      "wind speed min =  0.0 0.45\n"
     ]
    }
   ],
   "source": [
    "print \"rel hum min = \", d1['relative humidity [-]'][:].min(), d2['relative humidity [-]'][:].min()\n",
    "print \"precip rain min = \", d1['precipitation rain [m s^-1]'][:].min(), d2['precipitation rain [m s^-1]'][:].min()\n",
    "print \"precip snow min = \", d1['precipitation snow [m SWE s^-1]'][:].min(), d2['precipitation snow [m SWE s^-1]'][:].min()\n",
    "print \"qSW min = \", d1['incoming shortwave radiation [W m^-2]'][:].min(), d2['incoming shortwave radiation [W m^-2]'][:].min()  \n",
    "print \"qLW min = \", d1['incoming longwave radiation [W m^-2]'][:].min(), d2['incoming longwave radiation [W m^-2]'][:].min()  \n",
    "print \"wind speed min = \", d1['wind speed [m s^-1]'][:].min(), d2['wind speed [m s^-1]'][:].min()"
   ]
  },
  {
   "cell_type": "code",
   "execution_count": 26,
   "metadata": {
    "collapsed": false
   },
   "outputs": [],
   "source": [
    "with h5py.File(\"Barrow-2010_2016.h5\",'w') as fid:\n",
    "    for k in d1.keys():\n",
    "        if k.startswith(\"time\"):\n",
    "            fid.create_dataset(k, data=np.concatenate([d1[k][:], 4*365.25*86400 + d2[k][:]]))\n",
    "        else:\n",
    "            fid.create_dataset(k, data=np.concatenate([d1[k][:], d2[k][:]]))\n"
   ]
  },
  {
   "cell_type": "code",
   "execution_count": 27,
   "metadata": {
    "collapsed": false
   },
   "outputs": [
    {
     "name": "stdout",
     "output_type": "stream",
     "text": [
      "<HDF5 dataset \"precipitation rain [m s^-1]\": shape (2513,), type \"<f8\">\n"
     ]
    }
   ],
   "source": [
    "d3 = h5py.File(\"Barrow-2010_2016.h5\",'r')\n",
    "print d3['precipitation rain [m s^-1]']"
   ]
  },
  {
   "cell_type": "code",
   "execution_count": 33,
   "metadata": {
    "collapsed": false
   },
   "outputs": [
    {
     "ename": "ValueError",
     "evalue": "Not a file id (Not a file id)",
     "output_type": "error",
     "traceback": [
      "\u001b[0;31m---------------------------------------------------------------------------\u001b[0m",
      "\u001b[0;31mValueError\u001b[0m                                Traceback (most recent call last)",
      "\u001b[0;32m<ipython-input-33-2269bbd0e035>\u001b[0m in \u001b[0;36m<module>\u001b[0;34m()\u001b[0m\n\u001b[1;32m      1\u001b[0m \u001b[0md1\u001b[0m\u001b[0;34m.\u001b[0m\u001b[0mclose\u001b[0m\u001b[0;34m(\u001b[0m\u001b[0;34m)\u001b[0m\u001b[0;34m\u001b[0m\u001b[0m\n\u001b[1;32m      2\u001b[0m \u001b[0md2\u001b[0m\u001b[0;34m.\u001b[0m\u001b[0mclose\u001b[0m\u001b[0;34m(\u001b[0m\u001b[0;34m)\u001b[0m\u001b[0;34m\u001b[0m\u001b[0m\n\u001b[0;32m----> 3\u001b[0;31m \u001b[0md3\u001b[0m\u001b[0;34m.\u001b[0m\u001b[0mclose\u001b[0m\u001b[0;34m(\u001b[0m\u001b[0;34m)\u001b[0m\u001b[0;34m\u001b[0m\u001b[0m\n\u001b[0m",
      "\u001b[0;32m/anaconda/lib/python2.7/site-packages/h5py/_hl/files.pyc\u001b[0m in \u001b[0;36mclose\u001b[0;34m(self)\u001b[0m\n\u001b[1;32m    286\u001b[0m             \u001b[0;31m# Close file-resident objects first, then the files.\u001b[0m\u001b[0;34m\u001b[0m\u001b[0;34m\u001b[0m\u001b[0m\n\u001b[1;32m    287\u001b[0m             \u001b[0;31m# Otherwise we get errors in MPI mode.\u001b[0m\u001b[0;34m\u001b[0m\u001b[0;34m\u001b[0m\u001b[0m\n\u001b[0;32m--> 288\u001b[0;31m             \u001b[0mid_list\u001b[0m \u001b[0;34m=\u001b[0m \u001b[0mh5f\u001b[0m\u001b[0;34m.\u001b[0m\u001b[0mget_obj_ids\u001b[0m\u001b[0;34m(\u001b[0m\u001b[0mself\u001b[0m\u001b[0;34m.\u001b[0m\u001b[0mid\u001b[0m\u001b[0;34m,\u001b[0m \u001b[0;34m~\u001b[0m\u001b[0mh5f\u001b[0m\u001b[0;34m.\u001b[0m\u001b[0mOBJ_FILE\u001b[0m\u001b[0;34m)\u001b[0m\u001b[0;34m\u001b[0m\u001b[0m\n\u001b[0m\u001b[1;32m    289\u001b[0m             \u001b[0mfile_list\u001b[0m \u001b[0;34m=\u001b[0m \u001b[0mh5f\u001b[0m\u001b[0;34m.\u001b[0m\u001b[0mget_obj_ids\u001b[0m\u001b[0;34m(\u001b[0m\u001b[0mself\u001b[0m\u001b[0;34m.\u001b[0m\u001b[0mid\u001b[0m\u001b[0;34m,\u001b[0m \u001b[0mh5f\u001b[0m\u001b[0;34m.\u001b[0m\u001b[0mOBJ_FILE\u001b[0m\u001b[0;34m)\u001b[0m\u001b[0;34m\u001b[0m\u001b[0m\n\u001b[1;32m    290\u001b[0m \u001b[0;34m\u001b[0m\u001b[0m\n",
      "\u001b[0;32mh5py/_objects.pyx\u001b[0m in \u001b[0;36mh5py._objects.with_phil.wrapper (/Users/ilan/minonda/conda-bld/work/h5py/_objects.c:2696)\u001b[0;34m()\u001b[0m\n",
      "\u001b[0;32mh5py/_objects.pyx\u001b[0m in \u001b[0;36mh5py._objects.with_phil.wrapper (/Users/ilan/minonda/conda-bld/work/h5py/_objects.c:2654)\u001b[0;34m()\u001b[0m\n",
      "\u001b[0;32mh5py/h5f.pyx\u001b[0m in \u001b[0;36mh5py.h5f.get_obj_ids (/Users/ilan/minonda/conda-bld/work/h5py/h5f.c:3244)\u001b[0;34m()\u001b[0m\n",
      "\u001b[0;31mValueError\u001b[0m: Not a file id (Not a file id)"
     ]
    }
   ],
   "source": [
    "d1.close() \n",
    "d2.close()\n",
    "d3.close()"
   ]
  },
  {
   "cell_type": "code",
   "execution_count": null,
   "metadata": {
    "collapsed": true
   },
   "outputs": [],
   "source": []
  }
 ],
 "metadata": {
  "anaconda-cloud": {},
  "kernelspec": {
   "display_name": "Python [conda root]",
   "language": "python",
   "name": "conda-root-py"
  },
  "language_info": {
   "codemirror_mode": {
    "name": "ipython",
    "version": 2
   },
   "file_extension": ".py",
   "mimetype": "text/x-python",
   "name": "python",
   "nbconvert_exporter": "python",
   "pygments_lexer": "ipython2",
   "version": "2.7.12"
  }
 },
 "nbformat": 4,
 "nbformat_minor": 1
}
