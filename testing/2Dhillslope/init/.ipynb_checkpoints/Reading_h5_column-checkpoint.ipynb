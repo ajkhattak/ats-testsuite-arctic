{
 "cells": [
  {
   "cell_type": "code",
   "execution_count": 1,
   "metadata": {
    "collapsed": true
   },
   "outputs": [],
   "source": [
    "import h5py\n",
    "%matplotlib inline\n",
    "from matplotlib import pyplot as plt"
   ]
  },
  {
   "cell_type": "code",
   "execution_count": 2,
   "metadata": {
    "collapsed": true
   },
   "outputs": [],
   "source": [
    "fdat='exp1_column_data.h5'\n",
    "ddat = h5py.File(fdat, 'r')"
   ]
  },
  {
   "cell_type": "code",
   "execution_count": 3,
   "metadata": {
    "collapsed": false
   },
   "outputs": [
    {
     "name": "stdout",
     "output_type": "stream",
     "text": [
      "[u'pressure', u'temperature', u'z']\n"
     ]
    }
   ],
   "source": [
    "print ddat.keys()"
   ]
  },
  {
   "cell_type": "code",
   "execution_count": 4,
   "metadata": {
    "collapsed": false
   },
   "outputs": [
    {
     "data": {
      "text/plain": [
       "array([  -20102.02185514,   -17791.1520397 ,   -13159.48364802,\n",
       "          -5514.53610232,     2890.74899418,    11652.59962887,\n",
       "          20483.5140365 ,    33494.32738345,    49703.19274555,\n",
       "          73901.61335201,    98506.95016155,   925617.24063945,\n",
       "         994552.22436572,  1051393.21509285,  1252793.97200242,\n",
       "        1360105.98512194,  1552114.63984348,  1789523.6808925 ,\n",
       "        2033153.91977559,  2338363.14112476])"
      ]
     },
     "execution_count": 4,
     "metadata": {},
     "output_type": "execute_result"
    }
   ],
   "source": [
    "ddat['pressure'][:]"
   ]
  },
  {
   "cell_type": "code",
   "execution_count": 5,
   "metadata": {
    "collapsed": false
   },
   "outputs": [
    {
     "data": {
      "text/plain": [
       "array([-5.00001143, -5.00001143, -5.00001144, -5.00001144, -5.00001144,\n",
       "       -5.00001145, -5.00001145, -5.00001146, -5.00001148, -5.00001151,\n",
       "       -5.00001157, -5.00001174, -5.00001197, -5.0000124 , -5.00001348,\n",
       "       -5.00001487, -5.00001645, -5.00001331, -5.0000082 , -5.00000279])"
      ]
     },
     "execution_count": 5,
     "metadata": {},
     "output_type": "execute_result"
    }
   ],
   "source": [
    "ddat['temperature'][:]-273.15"
   ]
  },
  {
   "cell_type": "code",
   "execution_count": 6,
   "metadata": {
    "collapsed": false
   },
   "outputs": [
    {
     "data": {
      "text/plain": [
       "[<matplotlib.lines.Line2D at 0x10f342090>]"
      ]
     },
     "execution_count": 6,
     "metadata": {},
     "output_type": "execute_result"
    },
    {
     "data": {
      "image/png": "[encoded data removed]",
      "text/plain": [
       "<matplotlib.figure.Figure at 0x10ce06b50>"
      ]
     },
     "metadata": {},
     "output_type": "display_data"
    }
   ],
   "source": [
    "plt.plot(ddat['z'][:],ddat['pressure'][:])"
   ]
  },
  {
   "cell_type": "code",
   "execution_count": 7,
   "metadata": {
    "collapsed": false
   },
   "outputs": [
    {
     "data": {
      "text/plain": [
       "[<matplotlib.lines.Line2D at 0x10f8b5f50>]"
      ]
     },
     "execution_count": 7,
     "metadata": {},
     "output_type": "execute_result"
    },
    {
     "data": {
      "image/png": "[encoded data removed]",
      "text/plain": [
       "<matplotlib.figure.Figure at 0x10f3a2850>"
      ]
     },
     "metadata": {},
     "output_type": "display_data"
    }
   ],
   "source": [
    "plt.plot(ddat['temperature'][:]-273.15,ddat['z'][:],)"
   ]
  },
  {
   "cell_type": "code",
   "execution_count": 8,
   "metadata": {
    "collapsed": false
   },
   "outputs": [
    {
     "data": {
      "text/plain": [
       "array([  1.25000000e-02,   3.75000000e-02,   7.50000000e-02,\n",
       "         1.25000000e-01,   1.75000000e-01,   2.25000000e-01,\n",
       "         2.75000000e-01,   3.50000000e-01,   4.50000000e-01,\n",
       "         6.25000000e-01,   8.75000000e-01,   1.25000000e+00,\n",
       "         1.75000000e+00,   2.50000000e+00,   4.00000000e+00,\n",
       "         6.00000000e+00,   9.50000000e+00,   1.70000000e+01,\n",
       "         2.70000000e+01,   3.70000000e+01])"
      ]
     },
     "execution_count": 8,
     "metadata": {},
     "output_type": "execute_result"
    }
   ],
   "source": [
    "ddat['z'][:]"
   ]
  },
  {
   "cell_type": "code",
   "execution_count": null,
   "metadata": {
    "collapsed": true
   },
   "outputs": [],
   "source": []
  }
 ],
 "metadata": {
  "anaconda-cloud": {},
  "kernelspec": {
   "display_name": "Python [Root]",
   "language": "python",
   "name": "Python [Root]"
  },
  "language_info": {
   "codemirror_mode": {
    "name": "ipython",
    "version": 2
   },
   "file_extension": ".py",
   "mimetype": "text/x-python",
   "name": "python",
   "nbconvert_exporter": "python",
   "pygments_lexer": "ipython2",
   "version": "2.7.12"
  }
 },
 "nbformat": 4,
 "nbformat_minor": 0
}
